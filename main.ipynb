{
 "cells": [
  {
   "cell_type": "code",
   "execution_count": 1,
   "metadata": {},
   "outputs": [],
   "source": [
    "import pandas as pd\n",
    "import plotly\n",
    "import plotly.graph_objs as go\n",
    "import plotly.express as px\n",
    "from plotly.subplots import make_subplots\n",
    "import matplotlib.pyplot as plt\n",
    "\n",
    "import numpy as np\n",
    "\n",
    "import math\n",
    "from numpy import matmul \n",
    "from numpy.linalg import inv\n",
    "\n",
    "from scipy.linalg import lstsq"
   ]
  },
  {
   "cell_type": "code",
   "execution_count": 4,
   "metadata": {},
   "outputs": [
    {
     "name": "stdout",
     "output_type": "stream",
     "text": [
      "angle speed array [1.0965419384257566, 1.4749261284459123, 1.578689775673263, 2.755783029464731]\n",
      " собств кинетический момент гироскопа =  -0.05997283409251347\n"
     ]
    }
   ],
   "source": [
    "# ПРецессия гироскопа и гироскопического эффекта \n",
    "g=9.8\n",
    "\n",
    "time_array= np.array([5.73, 4.26, 3.98, 2.28])\n",
    "# массив угловых скоростей вращения \n",
    "angle_speed_ar=[]\n",
    "for it in time_array:\n",
    "    angle_speed_ar.append(2*math.pi/it)\n",
    "print('angle speed array', angle_speed_ar)\n",
    "l0=0\n",
    "l1=63*(10**(-3))\n",
    "l2=71*(10**(-3))\n",
    "\n",
    "# m0=const \n",
    "\n",
    "m1=35*(10**(-3))\n",
    "m2=40*(10**(-3))\n",
    "w0=angle_speed_ar[0]\n",
    "w1=angle_speed_ar[1]\n",
    "w2=angle_speed_ar[2]\n",
    "\n",
    "H = ((m2*g*l2)-(m1*g*l1))/(w1-w2)\n",
    "print(' собств кинетический момент гироскопа = ', H)\n",
    "\n"
   ]
  },
  {
   "cell_type": "code",
   "execution_count": 12,
   "metadata": {},
   "outputs": [
    {
     "name": "stdout",
     "output_type": "stream",
     "text": [
      "[-0.05755927  0.00644351]\n",
      "собственный кинетический момент (мнк)=  -0.05755926949742321\n",
      "(3,) (3,)\n"
     ]
    },
    {
     "data": {
      "image/png": "[encoded data removed]",
      "text/plain": [
       "<Figure size 432x288 with 1 Axes>"
      ]
     },
     "metadata": {
      "needs_background": "light"
     },
     "output_type": "display_data"
    }
   ],
   "source": [
    "from numpy import matmul \n",
    "from numpy.linalg import inv\n",
    "# new mnk \n",
    "A = np.array([[w0, w1, w2], [g]*3]).transpose()\n",
    "b = np.array([0, -m1*g*l1, -m2*g*l2])\n",
    "\n",
    "Mnk_mat=matmul(matmul(inv(matmul(A.T,A)),A.T),b)\n",
    "print(Mnk_mat)\n",
    "H_ = Mnk_mat[0]\n",
    "print('собственный кинетический момент (мнк)= ',H_)\n",
    "\n",
    "A_=A[:,0] \n",
    "\n",
    "plt.plot(A_, b, 'o', label='data')\n",
    "plt.show()\n",
    "\n"
   ]
  },
  {
   "cell_type": "code",
   "execution_count": 15,
   "metadata": {},
   "outputs": [
    {
     "name": "stdout",
     "output_type": "stream",
     "text": [
      " угловая скорость прецессии увеличилась с  1.4749261284459123 \n",
      " до  2.755783029464731  Гц  без груза\n"
     ]
    }
   ],
   "source": [
    "\n",
    "w4=angle_speed_ar[3]\n",
    "print (' угловая скорость прецессии увеличилась с ',w1,'\\n до ', w4, ' Гц  без груза')"
   ]
  },
  {
   "cell_type": "code",
   "execution_count": 16,
   "metadata": {},
   "outputs": [],
   "source": [
    "# ф-я для составления матрицы из двух массивов\n",
    "def make_array(w,v):\n",
    "    data = np.transpose(np.array([w,v]))\n",
    "    return data[data[:,0].argsort()]"
   ]
  },
  {
   "cell_type": "code",
   "execution_count": 17,
   "metadata": {},
   "outputs": [
    {
     "name": "stdout",
     "output_type": "stream",
     "text": [
      "w1 [0.00872665 0.01308997 0.01745329 0.02181662 0.02617994 0.05235988\n",
      " 0.07853982 0.10471976] \n",
      " v1= [ 0.85  1.3   1.75  2.    2.5   5.    7.   10.  ]\n",
      "koeff=  [93.69426237] \n",
      " res= 0.19681657848324524 \n",
      " rnk=  1 \n",
      " s= [0.14693454]\n"
     ]
    },
    {
     "data": {
      "image/png": "[encoded data removed]",
      "text/plain": [
       "<Figure size 432x288 with 1 Axes>"
      ]
     },
     "metadata": {
      "needs_background": "light"
     },
     "output_type": "display_data"
    }
   ],
   "source": [
    "# Датчик угловой скорости - гиротахометр \n",
    "\n",
    "ang1 = 15  # град - угол наклона гироскопа\n",
    "ang1_rad = math.radians(ang1) \n",
    "# скорость вращения в  град/с\n",
    "w1 = [ 6, 4.5, 3, 1.5, 1.25, 1, 0.75, 0.5] \n",
    "\n",
    "# напряжение - гироскопический момент \n",
    "v1 = [ 10, 7, 5, 2.5,  2.0, 1.75, 1.3, 0.85] \n",
    "data15 = make_array(w1,v1)\n",
    "\n",
    "w1= (math.pi/180)*data15[:,0]\n",
    "v1=data15[:,1]\n",
    "print('w1',w1,'\\n v1=',v1)\n",
    "\n",
    "plt.plot(w1, v1, 'o', label='data')\n",
    "\n",
    "\n",
    "Matrix = w1[:, np.newaxis]\n",
    "koeff1, res, rnk, s = lstsq(Matrix , v1) \n",
    "print('koeff= ',koeff1,'\\n res=', res,\"\\n rnk= \", rnk,'\\n s=', s)\n",
    "\n",
    "yy = float(koeff1[0]) * w1 + res\n",
    "Giro15=yy*ang1_rad\n",
    "plt.plot(w1, yy, label='least squares fit - Giro Moment , $y = bx +c  $')\n",
    "\n",
    "\n",
    "\n",
    "plt.xlabel('speed ')\n",
    "plt.ylabel('Giro moment  ')\n",
    "plt.legend(framealpha=1, shadow=True)\n",
    "plt.grid(alpha=0.1)\n",
    "plt.show()\n",
    "\n"
   ]
  },
  {
   "cell_type": "code",
   "execution_count": 18,
   "metadata": {},
   "outputs": [
    {
     "name": "stdout",
     "output_type": "stream",
     "text": [
      "w1 [0.00363028 0.00436332 0.00872665 0.01308997 0.01745329 0.02181662\n",
      " 0.02617994 0.05235988] \n",
      " v1= [ 0.85  1.3   1.75  2.    2.5   5.    7.   10.  ]\n",
      "koeff=  [178.12345648] \n",
      " res= 0.1987706896940309 \n",
      " rnk=  1 \n",
      " s= [0.06698692]\n"
     ]
    },
    {
     "data": {
      "image/png": "[encoded data removed]",
      "text/plain": [
       "<Figure size 432x288 with 1 Axes>"
      ]
     },
     "metadata": {
      "needs_background": "light"
     },
     "output_type": "display_data"
    },
    {
     "name": "stdout",
     "output_type": "stream",
     "text": [
      "наклон мнк для 15 градусов = 93.694262371305 \n",
      " наклон мнк для 60 градусов =  178.12345647987527\n"
     ]
    }
   ],
   "source": [
    "# угол между осью ротора и осью вращения платформы равен α = 60 град;\n",
    "ang2 = 60\n",
    "ang2_rad = math.radians(ang2) \n",
    "w2 = [   3, 1.5, 1.25,   1, 0.75, 0.5, 0.25, 0.208]\n",
    "v2 = [ 9.3, 5,  3.7, 2.9,  2.3, 1.6,  0.8,     0.7]\n",
    "\n",
    "data60 = make_array(w2,v2)\n",
    "\n",
    "w2= (math.pi/180)*data60[:,0]\n",
    "v2=data60[:,1]\n",
    "print('w1',w2,'\\n v1=',v1)\n",
    "\n",
    "plt.plot(w2, v2, 'o', label='data')\n",
    "\n",
    "\n",
    "Matrix = w2[:, np.newaxis]\n",
    "koeff2, res, rnk, s = lstsq(Matrix , v2) \n",
    "print('koeff= ',koeff2,'\\n res=', res,\"\\n rnk= \", rnk,'\\n s=', s)\n",
    "\n",
    "yy = float(koeff2[0]) * w2 + res\n",
    "Giro60=yy*ang2_rad\n",
    "plt.plot(w2, yy, label='least squares fit - Giro Moment , $y = bx +c  $')\n",
    "\n",
    "\n",
    "\n",
    "plt.xlabel('speed ')\n",
    "plt.ylabel('Giro moment  ')\n",
    "plt.legend(framealpha=1, shadow=True)\n",
    "plt.grid(alpha=0.1)\n",
    "plt.show()\n",
    "\n"
   ]
  },
  {
   "cell_type": "code",
   "execution_count": 21,
   "metadata": {},
   "outputs": [
    {
     "name": "stdout",
     "output_type": "stream",
     "text": [
      " Зависимость Гироскопического момента от угловой скорости вращения платформы для углов 15 и 60  \n",
      " между осью ротора и осью вращения платформы       \n"
     ]
    },
    {
     "data": {
      "image/png": "[encoded data removed]",
      "text/plain": [
       "<Figure size 432x288 with 1 Axes>"
      ]
     },
     "metadata": {
      "needs_background": "light"
     },
     "output_type": "display_data"
    },
    {
     "name": "stdout",
     "output_type": "stream",
     "text": [
      "наклон мнк для 15 градусов = 93.694262371305 \n",
      " наклон мнк для 60 градусов =  178.12345647987527 соотношение  0.5260074345227562\n",
      " теоритическое соотношение коэффициентов наклона  0.2988584907226845\n"
     ]
    }
   ],
   "source": [
    "# G = H * w * sin (alpha) \n",
    "\n",
    "print ( ' Зависимость Гироскопического момента от угловой скорости вращения платформы для углов 15 и 60  \\n между осью ротора и осью вращения платформы       ')\n",
    "plt.plot(w1, Giro15, label='Giro Moment  15 degrees ')\n",
    "plt.plot(w2, Giro60, label='Giro Moment  60 degrees ')\n",
    "\n",
    "\n",
    "\n",
    "plt.xlabel('speed ')\n",
    "plt.ylabel('Giro moment  ')\n",
    "plt.legend(framealpha=1, shadow=True)\n",
    "plt.grid(alpha=0.1)\n",
    "plt.show()\n",
    "\n",
    "k1=koeff1[0]\n",
    "k2=koeff2[0]\n",
    "k1_2=k1/k2\n",
    "print ('наклон мнк для 15 градусов =', k1,'\\n наклон мнк для 60 градусов = ', k2, 'соотношение ',k1_2) \n",
    "\n",
    "# Г = H x w x sin (a)\n",
    "k_ter=math.sin(ang1_rad)/math.sin(ang2_rad)\n",
    "print ( ' теоритическое соотношение коэффициентов наклона ',k_ter )\n"
   ]
  },
  {
   "cell_type": "code",
   "execution_count": null,
   "metadata": {},
   "outputs": [],
   "source": []
  }
 ],
 "metadata": {
  "kernelspec": {
   "display_name": "Python 3",
   "language": "python",
   "name": "python3"
  },
  "language_info": {
   "codemirror_mode": {
    "name": "ipython",
    "version": 3
   },
   "file_extension": ".py",
   "mimetype": "text/x-python",
   "name": "python",
   "nbconvert_exporter": "python",
   "pygments_lexer": "ipython3",
   "version": "3.8.3"
  }
 },
 "nbformat": 4,
 "nbformat_minor": 4
}
